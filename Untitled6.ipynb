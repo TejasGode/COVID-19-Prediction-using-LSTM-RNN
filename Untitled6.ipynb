{
  "nbformat": 4,
  "nbformat_minor": 0,
  "metadata": {
    "colab": {
      "name": "Untitled6.ipynb",
      "provenance": [],
      "collapsed_sections": [],
      "mount_file_id": "1IRbjqiBN-g7_QFuSuFfJ9W1vqurNMTx6",
      "authorship_tag": "ABX9TyNVFwKBuGOFJt8gUON60WL0",
      "include_colab_link": true
    },
    "kernelspec": {
      "name": "python3",
      "display_name": "Python 3"
    },
    "accelerator": "GPU"
  },
  "cells": [
    {
      "cell_type": "markdown",
      "metadata": {
        "id": "view-in-github",
        "colab_type": "text"
      },
      "source": [
        "<a href=\"https://colab.research.google.com/github/TejasGode/COVID-19-Prediction-using-LSTM-RNN/blob/master/Untitled6.ipynb\" target=\"_parent\"><img src=\"https://colab.research.google.com/assets/colab-badge.svg\" alt=\"Open In Colab\"/></a>"
      ]
    },
    {
      "cell_type": "code",
      "metadata": {
        "id": "8Y9vLNTFZsrq",
        "colab_type": "code",
        "outputId": "205d42e4-4a9d-4b2e-921a-2efd23582386",
        "colab": {
          "base_uri": "https://localhost:8080/",
          "height": 306
        }
      },
      "source": [
        "import numpy as np\n",
        "import pandas as pd\n",
        "import tensorflow as tf\n",
        "import keras\n",
        "from keras.preprocessing.sequence import TimeseriesGenerator\n",
        "\n",
        "\n",
        "data = pd.read_csv(\"/content/drive/My Drive/case_time_series_mod_dates.csv\")\n",
        "print(data.info())\n",
        "\n",
        "\n",
        "dates= data['Date']\n",
        "d  = pd.to_datetime(data['Date'])\n",
        "#print('d',d)\n",
        "\n",
        "data.set_axis(data['Date'], inplace= True)\n",
        "\n",
        "last_dates = dates.values[-1]\n",
        "print('last dates: ',dates.values[-1])\n",
        "conf_data = data['Total Confirmed'].values\n",
        "print(conf_data.shape)\n"
      ],
      "execution_count": 0,
      "outputs": [
        {
          "output_type": "stream",
          "text": [
            "<class 'pandas.core.frame.DataFrame'>\n",
            "RangeIndex: 110 entries, 0 to 109\n",
            "Data columns (total 7 columns):\n",
            " #   Column           Non-Null Count  Dtype \n",
            "---  ------           --------------  ----- \n",
            " 0   Date             110 non-null    object\n",
            " 1   Daily Confirmed  110 non-null    int64 \n",
            " 2   Total Confirmed  110 non-null    int64 \n",
            " 3   Daily Recovered  110 non-null    int64 \n",
            " 4   Total Recovered  110 non-null    int64 \n",
            " 5   Daily Deceased   110 non-null    int64 \n",
            " 6   Total Deceased   110 non-null    int64 \n",
            "dtypes: int64(6), object(1)\n",
            "memory usage: 6.1+ KB\n",
            "None\n",
            "last dates:  18-May-20\n",
            "(110,)\n"
          ],
          "name": "stdout"
        }
      ]
    },
    {
      "cell_type": "code",
      "metadata": {
        "id": "L7RvAHebbCU-",
        "colab_type": "code",
        "colab": {}
      },
      "source": [
        "from sklearn.preprocessing import MinMaxScaler\n",
        "# normalize the dataset\n",
        "scaler = MinMaxScaler(feature_range=(0, 1))\n",
        "conf_data = conf_data.reshape((-1,1))\n",
        "\n",
        "conf_data = scaler.fit_transform(conf_data)\n",
        "# split into train and test sets\n",
        "train_size = int(len(conf_data) * 0.67)\n",
        "test_size = len(conf_data) - train_size\n",
        "train, test = conf_data[0:train_size,:], conf_data[train_size:len(conf_data),:]\n",
        "\n",
        "\n",
        "\n",
        "split_perecent = 0.67\n",
        "split = int(split_perecent *len(conf_data) )\n",
        "\n",
        "dates_train = dates[:split]\n",
        "\n",
        "dates_test = dates[split:]"
      ],
      "execution_count": 0,
      "outputs": []
    },
    {
      "cell_type": "code",
      "metadata": {
        "id": "qm7NSjdUbjRQ",
        "colab_type": "code",
        "colab": {}
      },
      "source": [
        "look_back = 5\n",
        "\n",
        "train_data_gen = TimeseriesGenerator(train, train,\n",
        "\tlength=look_back, sampling_rate=1,stride=1,\n",
        "    batch_size=3)\n",
        "test_data_gen = TimeseriesGenerator(test, test,\n",
        "\tlength=look_back, sampling_rate=1,stride=1,\n",
        "\tbatch_size=1)"
      ],
      "execution_count": 0,
      "outputs": []
    },
    {
      "cell_type": "code",
      "metadata": {
        "id": "88ItLTeqeieF",
        "colab_type": "code",
        "colab": {}
      },
      "source": [
        "import plotly.graph_objects as go\n",
        "fig = go.Figure( go.Scatter(x=[1,2,3], y=[1,3,2] ) )\n",
        "fig.show()"
      ],
      "execution_count": 0,
      "outputs": []
    },
    {
      "cell_type": "code",
      "metadata": {
        "id": "zQX2OEKHhSsB",
        "colab_type": "code",
        "outputId": "3b0f07db-e2f8-476d-b187-1a15d75ffac0",
        "colab": {
          "base_uri": "https://localhost:8080/",
          "height": 1000
        }
      },
      "source": [
        "from keras.models import Sequential\n",
        "from keras.layers import Dense, LSTM\n",
        "from keras.layers import Bidirectional\n",
        "\n",
        "num_epochs = 30\n",
        "model = Sequential()\n",
        "\n",
        "model.add(\n",
        "    LSTM(22,\n",
        "         activation= 'relu',\n",
        "       \n",
        "         go_backwards=True,\n",
        "         input_shape=(look_back,1))\n",
        ")\n",
        "#   return_sequences=True,\n",
        "\n",
        "#model.add(LSTM(22, activation='relu'))  #, return_sequences=True))\n",
        "#model.add(LSTM(22, activation='relu'))\n",
        "model.add(Dense(1))\n",
        "model.compile(loss='mean_squared_error', optimizer='adam',  metrics=['accuracy'])\n",
        "\n",
        "model.fit_generator(train_data_gen, epochs= 30, verbose=1)\n",
        "\n",
        "from pydrive.auth import GoogleAuth\n",
        "from pydrive.drive import GoogleDrive \n",
        "from google.colab import auth \n",
        "from oauth2client.client import GoogleCredentials\n",
        "\n",
        "auth.authenticate_user()\n",
        "gauth = GoogleAuth()\n",
        "gauth.credentials = GoogleCredentials.get_application_default()                       \n",
        "drive = GoogleDrive(gauth)\n",
        "\n",
        "model.save('covid_19_19_1th_1.h5')\n",
        "model_file = drive.CreateFile({'title' : 'models.h5'})                       \n",
        "model_file.SetContentFile('models.h5')                       \n",
        "model_file.Upload()"
      ],
      "execution_count": 0,
      "outputs": [
        {
          "output_type": "stream",
          "text": [
            "Epoch 1/30\n",
            "23/23 [==============================] - 1s 24ms/step - loss: 4.1417e-04 - accuracy: 0.0000e+00\n",
            "Epoch 2/30\n",
            "23/23 [==============================] - 0s 17ms/step - loss: 3.1823e-04 - accuracy: 0.0000e+00\n",
            "Epoch 3/30\n",
            "23/23 [==============================] - 0s 13ms/step - loss: 3.0494e-04 - accuracy: 0.0000e+00\n",
            "Epoch 4/30\n",
            "23/23 [==============================] - 0s 12ms/step - loss: 3.3395e-04 - accuracy: 0.0000e+00\n",
            "Epoch 5/30\n",
            "23/23 [==============================] - 0s 12ms/step - loss: 3.1682e-04 - accuracy: 0.0000e+00\n",
            "Epoch 6/30\n",
            "23/23 [==============================] - 0s 11ms/step - loss: 3.0636e-04 - accuracy: 0.0000e+00\n",
            "Epoch 7/30\n",
            "23/23 [==============================] - 0s 12ms/step - loss: 2.5663e-04 - accuracy: 0.0000e+00\n",
            "Epoch 8/30\n",
            "23/23 [==============================] - 0s 12ms/step - loss: 2.3886e-04 - accuracy: 0.0000e+00\n",
            "Epoch 9/30\n",
            "23/23 [==============================] - 0s 12ms/step - loss: 2.1410e-04 - accuracy: 0.0000e+00\n",
            "Epoch 10/30\n",
            "23/23 [==============================] - 0s 12ms/step - loss: 1.9893e-04 - accuracy: 0.0000e+00\n",
            "Epoch 11/30\n",
            "23/23 [==============================] - 0s 11ms/step - loss: 1.7486e-04 - accuracy: 0.0000e+00\n",
            "Epoch 12/30\n",
            "23/23 [==============================] - 0s 12ms/step - loss: 1.5602e-04 - accuracy: 0.0000e+00\n",
            "Epoch 13/30\n",
            "23/23 [==============================] - 0s 12ms/step - loss: 1.6542e-04 - accuracy: 0.0000e+00\n",
            "Epoch 14/30\n",
            "23/23 [==============================] - 0s 12ms/step - loss: 1.2514e-04 - accuracy: 0.0000e+00\n",
            "Epoch 15/30\n",
            "23/23 [==============================] - 0s 12ms/step - loss: 8.5384e-05 - accuracy: 0.0000e+00\n",
            "Epoch 16/30\n",
            "23/23 [==============================] - 0s 13ms/step - loss: 6.1215e-05 - accuracy: 0.0000e+00\n",
            "Epoch 17/30\n",
            "23/23 [==============================] - 0s 11ms/step - loss: 4.3950e-05 - accuracy: 0.0000e+00\n",
            "Epoch 18/30\n",
            "23/23 [==============================] - 0s 11ms/step - loss: 3.2678e-05 - accuracy: 0.0000e+00\n",
            "Epoch 19/30\n",
            "23/23 [==============================] - 0s 13ms/step - loss: 2.0562e-05 - accuracy: 0.0000e+00\n",
            "Epoch 20/30\n",
            "23/23 [==============================] - 0s 11ms/step - loss: 1.3496e-05 - accuracy: 0.0000e+00\n",
            "Epoch 21/30\n",
            "23/23 [==============================] - 0s 12ms/step - loss: 6.4971e-06 - accuracy: 0.0000e+00\n",
            "Epoch 22/30\n",
            "23/23 [==============================] - 0s 13ms/step - loss: 3.9232e-06 - accuracy: 0.0000e+00\n",
            "Epoch 23/30\n",
            "23/23 [==============================] - 0s 15ms/step - loss: 3.9448e-06 - accuracy: 0.0000e+00\n",
            "Epoch 24/30\n",
            "23/23 [==============================] - 0s 12ms/step - loss: 3.3620e-06 - accuracy: 0.0000e+00\n",
            "Epoch 25/30\n",
            "23/23 [==============================] - 0s 12ms/step - loss: 2.5678e-06 - accuracy: 0.0000e+00\n",
            "Epoch 26/30\n",
            "23/23 [==============================] - 0s 11ms/step - loss: 3.1247e-06 - accuracy: 0.0000e+00\n",
            "Epoch 27/30\n",
            "23/23 [==============================] - 0s 11ms/step - loss: 2.8956e-06 - accuracy: 0.0000e+00\n",
            "Epoch 28/30\n",
            "23/23 [==============================] - 0s 15ms/step - loss: 3.0505e-06 - accuracy: 0.0000e+00\n",
            "Epoch 29/30\n",
            "23/23 [==============================] - 0s 13ms/step - loss: 2.8480e-06 - accuracy: 0.0000e+00\n",
            "Epoch 30/30\n",
            "23/23 [==============================] - 0s 11ms/step - loss: 2.8122e-06 - accuracy: 0.0000e+00\n"
          ],
          "name": "stdout"
        },
        {
          "output_type": "error",
          "ename": "FileNotFoundError",
          "evalue": "ignored",
          "traceback": [
            "\u001b[0;31m---------------------------------------------------------------------------\u001b[0m",
            "\u001b[0;31mFileNotFoundError\u001b[0m                         Traceback (most recent call last)",
            "\u001b[0;32m<ipython-input-13-6985b3810bee>\u001b[0m in \u001b[0;36m<module>\u001b[0;34m()\u001b[0m\n\u001b[1;32m     34\u001b[0m \u001b[0mmodel\u001b[0m\u001b[0;34m.\u001b[0m\u001b[0msave\u001b[0m\u001b[0;34m(\u001b[0m\u001b[0;34m'covid_19_19_1th_1.h5'\u001b[0m\u001b[0;34m)\u001b[0m\u001b[0;34m\u001b[0m\u001b[0;34m\u001b[0m\u001b[0m\n\u001b[1;32m     35\u001b[0m \u001b[0mmodel_file\u001b[0m \u001b[0;34m=\u001b[0m \u001b[0mdrive\u001b[0m\u001b[0;34m.\u001b[0m\u001b[0mCreateFile\u001b[0m\u001b[0;34m(\u001b[0m\u001b[0;34m{\u001b[0m\u001b[0;34m'title'\u001b[0m \u001b[0;34m:\u001b[0m \u001b[0;34m'models.h5'\u001b[0m\u001b[0;34m}\u001b[0m\u001b[0;34m)\u001b[0m\u001b[0;34m\u001b[0m\u001b[0;34m\u001b[0m\u001b[0m\n\u001b[0;32m---> 36\u001b[0;31m \u001b[0mmodel_file\u001b[0m\u001b[0;34m.\u001b[0m\u001b[0mSetContentFile\u001b[0m\u001b[0;34m(\u001b[0m\u001b[0;34m'models.h5'\u001b[0m\u001b[0;34m)\u001b[0m\u001b[0;34m\u001b[0m\u001b[0;34m\u001b[0m\u001b[0m\n\u001b[0m\u001b[1;32m     37\u001b[0m \u001b[0mmodel_file\u001b[0m\u001b[0;34m.\u001b[0m\u001b[0mUpload\u001b[0m\u001b[0;34m(\u001b[0m\u001b[0;34m)\u001b[0m\u001b[0;34m\u001b[0m\u001b[0;34m\u001b[0m\u001b[0m\n",
            "\u001b[0;32m/usr/local/lib/python3.6/dist-packages/pydrive/files.py\u001b[0m in \u001b[0;36mSetContentFile\u001b[0;34m(self, filename)\u001b[0m\n\u001b[1;32m    167\u001b[0m     \u001b[0;34m:\u001b[0m\u001b[0mtype\u001b[0m \u001b[0mfilename\u001b[0m\u001b[0;34m:\u001b[0m \u001b[0mstr\u001b[0m\u001b[0;34m.\u001b[0m\u001b[0;34m\u001b[0m\u001b[0;34m\u001b[0m\u001b[0m\n\u001b[1;32m    168\u001b[0m     \"\"\"\n\u001b[0;32m--> 169\u001b[0;31m     \u001b[0mself\u001b[0m\u001b[0;34m.\u001b[0m\u001b[0mcontent\u001b[0m \u001b[0;34m=\u001b[0m \u001b[0mopen\u001b[0m\u001b[0;34m(\u001b[0m\u001b[0mfilename\u001b[0m\u001b[0;34m,\u001b[0m \u001b[0;34m'rb'\u001b[0m\u001b[0;34m)\u001b[0m\u001b[0;34m\u001b[0m\u001b[0;34m\u001b[0m\u001b[0m\n\u001b[0m\u001b[1;32m    170\u001b[0m     \u001b[0;32mif\u001b[0m \u001b[0mself\u001b[0m\u001b[0;34m.\u001b[0m\u001b[0mget\u001b[0m\u001b[0;34m(\u001b[0m\u001b[0;34m'title'\u001b[0m\u001b[0;34m)\u001b[0m \u001b[0;32mis\u001b[0m \u001b[0;32mNone\u001b[0m\u001b[0;34m:\u001b[0m\u001b[0;34m\u001b[0m\u001b[0;34m\u001b[0m\u001b[0m\n\u001b[1;32m    171\u001b[0m       \u001b[0mself\u001b[0m\u001b[0;34m[\u001b[0m\u001b[0;34m'title'\u001b[0m\u001b[0;34m]\u001b[0m \u001b[0;34m=\u001b[0m \u001b[0mfilename\u001b[0m\u001b[0;34m\u001b[0m\u001b[0;34m\u001b[0m\u001b[0m\n",
            "\u001b[0;31mFileNotFoundError\u001b[0m: [Errno 2] No such file or directory: 'models.h5'"
          ]
        }
      ]
    },
    {
      "cell_type": "code",
      "metadata": {
        "id": "LvSJQwVmhq08",
        "colab_type": "code",
        "colab": {}
      },
      "source": [
        "from keras.models import load_model\n",
        "\n",
        "model = load_model('/content/covid_19_15_1th_1.h5')\n",
        "\n",
        "  \n",
        "# covid_19_13_1th_1.h5  --->  /content/covid_19_13_1th_1.h5 ==> \n",
        "# covid_19_15_1th_1.h5    --> trained on 22 units, 2 layer, 30 epochs    --- best\n",
        "# # covid_19_16_1th_1.h5    --> trained on 22 units, 2 layer, 100 epochs\n",
        "# covid_19_17_1th_1.h5    --> trained on 22 units, 3 layer, 30 epochs\n",
        "# covid_19_18_1th_1.h5    --> trained on 22 units, 2 layer, 30 epochs\n",
        "# covid_19_19_1th_1.h5    --> trained on 22 units, 1 layer, 30 epochs"
      ],
      "execution_count": 0,
      "outputs": []
    },
    {
      "cell_type": "code",
      "metadata": {
        "id": "FuFIS802jF7G",
        "colab_type": "code",
        "colab": {}
      },
      "source": [
        "model.evaluate_generator(test_data_gen)\n",
        "trainPredict = model.predict_generator(train_data_gen)\n",
        "testPredict = model.predict_generator(test_data_gen)"
      ],
      "execution_count": 0,
      "outputs": []
    },
    {
      "cell_type": "code",
      "metadata": {
        "id": "mCIeVzK_huKz",
        "colab_type": "code",
        "outputId": "c5ba4342-9cea-45ae-f508-584141ba657e",
        "colab": {
          "base_uri": "https://localhost:8080/",
          "height": 644
        }
      },
      "source": [
        "import plotly.graph_objects as go\n",
        "\n",
        "prediction = model.predict_generator(test_data_gen)    # predict on validation data\n",
        "\n",
        "\n",
        "\n",
        "#  np.reshape(X_train, (X_train.shape[0], 1, X_train.shape[1]))\n",
        "\n",
        "train = train.reshape((-1))     # (-1) converts (3*4) to 12 [1,2,3,4,5,...]\n",
        "#(-1,1) converts ([[1,2,3,4]]) to ([[1],\n",
        "                     #              [2]...])\n",
        "test = test.reshape((-1))\n",
        "prediction = prediction.reshape((-1))\n",
        "print('prediction: ', prediction)\n",
        "\n",
        "trace1 = go.Scatter(\n",
        "    x= dates_train,\n",
        "    y = train,\n",
        "    mode = 'lines',\n",
        "    name = \"Training Data\" \n",
        ")\n",
        "\n",
        "trace2 = go.Scatter(\n",
        "    x= dates_test,\n",
        "    y= prediction,\n",
        "    mode = 'lines',\n",
        "    name = \"Predictions\"\n",
        ")\n",
        "\n",
        "trace3 = go.Scatter(\n",
        "    x = dates_test,\n",
        "    y = test,\n",
        "    mode='lines',\n",
        "    name = 'Ground Truth'    \n",
        ")\n",
        "\n",
        "layout = go.Layout(\n",
        "    title = \"Cases\",\n",
        "    xaxis= {'title': 'Date'},\n",
        "    yaxis = { 'title' : 'Close'}\n",
        ")\n",
        "\n",
        "fig= go.Figure(data=[trace1, trace2, trace3], layout= layout)\n",
        "\n",
        "#fig = go.Figure(data=[trace1, trace2, trace3], layout= layout)\n",
        "fig.show()"
      ],
      "execution_count": 0,
      "outputs": [
        {
          "output_type": "stream",
          "text": [
            "prediction:  [0.11793584 0.12464165 0.13206497 0.14053926 0.14923126 0.15867168\n",
            " 0.1682243  0.17842975 0.18870549 0.2000852  0.2118642  0.22398122\n",
            " 0.23696993 0.25029588 0.26406443 0.27980196 0.29775083 0.31860298\n",
            " 0.34402907 0.3716663  0.4025911  0.43565214 0.4703794  0.5058476\n",
            " 0.54626507 0.5888142  0.6335784  0.6811367  0.7323428  0.7857277\n",
            " 0.8464408  0.9157334 ]\n"
          ],
          "name": "stdout"
        },
        {
          "output_type": "display_data",
          "data": {
            "text/html": [
              "<html>\n",
              "<head><meta charset=\"utf-8\" /></head>\n",
              "<body>\n",
              "    <div>\n",
              "            <script src=\"https://cdnjs.cloudflare.com/ajax/libs/mathjax/2.7.5/MathJax.js?config=TeX-AMS-MML_SVG\"></script><script type=\"text/javascript\">if (window.MathJax) {MathJax.Hub.Config({SVG: {font: \"STIX-Web\"}});}</script>\n",
              "                <script type=\"text/javascript\">window.PlotlyConfig = {MathJaxConfig: 'local'};</script>\n",
              "        <script src=\"https://cdn.plot.ly/plotly-latest.min.js\"></script>    \n",
              "            <div id=\"6ca4b7d6-d70f-4392-8254-c16efd53a78b\" class=\"plotly-graph-div\" style=\"height:525px; width:100%;\"></div>\n",
              "            <script type=\"text/javascript\">\n",
              "                \n",
              "                    window.PLOTLYENV=window.PLOTLYENV || {};\n",
              "                    \n",
              "                if (document.getElementById(\"6ca4b7d6-d70f-4392-8254-c16efd53a78b\")) {\n",
              "                    Plotly.newPlot(\n",
              "                        '6ca4b7d6-d70f-4392-8254-c16efd53a78b',\n",
              "                        [{\"mode\": \"lines\", \"name\": \"Training Data\", \"type\": \"scatter\", \"x\": [\"1/30/20\", \"31-Jan-20\", \"1-Feb-20\", \"2-Feb-20\", \"3-Feb-20\", \"4-Feb-20\", \"5-Feb-20\", \"6-Feb-20\", \"7-Feb-20\", \"8-Feb-20\", \"9-Feb-20\", \"10-Feb-20\", \"11-Feb-20\", \"12-Feb-20\", \"13-Feb-20\", \"14-Feb-20\", \"15-Feb-20\", \"16-Feb-20\", \"17-Feb-20\", \"18-Feb-20\", \"19-Feb-20\", \"20-Feb-20\", \"21-Feb-20\", \"22-Feb-20\", \"23-Feb-20\", \"24-Feb-20\", \"25-Feb-20\", \"26-Feb-20\", \"27-Feb-20\", \"28-Feb-20\", \"29-Feb-20\", \"1-Mar-20\", \"2-Mar-20\", \"3-Mar-20\", \"4-Mar-20\", \"5-Mar-20\", \"6-Mar-20\", \"7-Mar-20\", \"8-Mar-20\", \"9-Mar-20\", \"10-Mar-20\", \"11-Mar-20\", \"12-Mar-20\", \"13-Mar-20\", \"14-Mar-20\", \"15-Mar-20\", \"16-Mar-20\", \"17-Mar-20\", \"18-Mar-20\", \"19-Mar-20\", \"20-Mar-20\", \"21-Mar-20\", \"22-Mar-20\", \"23-Mar-20\", \"24-Mar-20\", \"25-Mar-20\", \"26-Mar-20\", \"27-Mar-20\", \"28-Mar-20\", \"29-Mar-20\", \"30-Mar-20\", \"31-Mar-20\", \"1-Apr-20\", \"2-Apr-20\", \"3-Apr-20\", \"4-Apr-20\", \"5-Apr-20\", \"6-Apr-20\", \"7-Apr-20\", \"8-Apr-20\", \"9-Apr-20\", \"10-Apr-20\", \"11-Apr-20\"], \"y\": [0.0, 0.0, 0.0, 9.967505930666029e-06, 1.9935011861332058e-05, 1.9935011861332058e-05, 1.9935011861332058e-05, 1.9935011861332058e-05, 1.9935011861332058e-05, 1.9935011861332058e-05, 1.9935011861332058e-05, 1.9935011861332058e-05, 1.9935011861332058e-05, 1.9935011861332058e-05, 1.9935011861332058e-05, 1.9935011861332058e-05, 1.9935011861332058e-05, 1.9935011861332058e-05, 1.9935011861332058e-05, 1.9935011861332058e-05, 1.9935011861332058e-05, 1.9935011861332058e-05, 1.9935011861332058e-05, 1.9935011861332058e-05, 1.9935011861332058e-05, 1.9935011861332058e-05, 1.9935011861332058e-05, 1.9935011861332058e-05, 1.9935011861332058e-05, 1.9935011861332058e-05, 1.9935011861332058e-05, 1.9935011861332058e-05, 3.9870023722664115e-05, 4.9837529653330144e-05, 0.00026912266012798277, 0.00028905767198931484, 0.0002990251779199809, 0.000328927695711979, 0.00037876522536530913, 0.00046847277874130337, 0.0006179853677012938, 0.000697725415146622, 0.0007974004744532823, 0.0008970755337599426, 0.001006718098997269, 0.001106393158303929, 0.0012459382413332535, 0.0014452883599465742, 0.001694476008213225, 0.001963598668341208, 0.0025417140123198375, 0.0033191794749117876, 0.004006937384127744, 0.004943882941610351, 0.005681478380479637, 0.006538683890516915, 0.007266311823455535, 0.008791340230847437, 0.010146921037418016, 0.01134302174909794, 0.013206945358132487, 0.01628690469070829, 0.020513127205310688, 0.02535733508761438, 0.030939138408787353, 0.036710324342642986, 0.042780535454418595, 0.047604808324860956, 0.05331618922313259, 0.058947830073958894, 0.06705141239559037, 0.07573311006120048, 0.08424536012598927]}, {\"mode\": \"lines\", \"name\": \"Predictions\", \"type\": \"scatter\", \"x\": [\"12-Apr-20\", \"13-Apr-20\", \"14-Apr-20\", \"15-Apr-20\", \"16-Apr-20\", \"17-Apr-20\", \"18-Apr-20\", \"19-Apr-20\", \"20-Apr-20\", \"21-Apr-20\", \"22-Apr-20\", \"23-Apr-20\", \"24-Apr-20\", \"25-Apr-20\", \"26-Apr-20\", \"27-Apr-20\", \"28-Apr-20\", \"29-Apr-20\", \"30-Apr-20\", \"1-May-20\", \"2-May-20\", \"3-May-20\", \"4-May-20\", \"5-May-20\", \"6-May-20\", \"7-May-20\", \"8-May-20\", \"9-May-20\", \"10-May-20\", \"11-May-20\", \"12-May-20\", \"13-May-20\", \"14-May-20\", \"15-May-20\", \"16-May-20\", \"17-May-20\", \"18-May-20\"], \"y\": [0.11793584376573563, 0.12464164942502975, 0.13206496834754944, 0.1405392587184906, 0.14923125505447388, 0.15867167711257935, 0.1682243049144745, 0.1784297525882721, 0.18870548903942108, 0.20008519291877747, 0.21186420321464539, 0.22398121654987335, 0.2369699329137802, 0.25029587745666504, 0.2640644311904907, 0.27980196475982666, 0.2977508306503296, 0.318602979183197, 0.3440290689468384, 0.3716663122177124, 0.40259110927581787, 0.43565213680267334, 0.47037941217422485, 0.5058475732803345, 0.5462650656700134, 0.5888141989707947, 0.6335784196853638, 0.6811367273330688, 0.7323427796363831, 0.7857276797294617, 0.8464407920837402, 0.9157333970069885]}, {\"mode\": \"lines\", \"name\": \"Ground Truth\", \"type\": \"scatter\", \"x\": [\"12-Apr-20\", \"13-Apr-20\", \"14-Apr-20\", \"15-Apr-20\", \"16-Apr-20\", \"17-Apr-20\", \"18-Apr-20\", \"19-Apr-20\", \"20-Apr-20\", \"21-Apr-20\", \"22-Apr-20\", \"23-Apr-20\", \"24-Apr-20\", \"25-Apr-20\", \"26-Apr-20\", \"27-Apr-20\", \"28-Apr-20\", \"29-Apr-20\", \"30-Apr-20\", \"1-May-20\", \"2-May-20\", \"3-May-20\", \"4-May-20\", \"5-May-20\", \"6-May-20\", \"7-May-20\", \"8-May-20\", \"9-May-20\", \"10-May-20\", \"11-May-20\", \"12-May-20\", \"13-May-20\", \"14-May-20\", \"15-May-20\", \"16-May-20\", \"17-May-20\", \"18-May-20\"], \"y\": [0.09180072962143412, 0.10419033949325199, 0.11446683810776867, 0.12329804836233876, 0.13387357215477544, 0.14306361262284953, 0.15672906325379266, 0.17247772262424496, 0.1848274624723402, 0.20014751908777387, 0.21302553675019437, 0.22964136913661465, 0.2436756174869924, 0.2619659908697646, 0.27798377290034487, 0.2936128221996292, 0.312571018479756, 0.32956561609154156, 0.3475170942726711, 0.37139923848254686, 0.3969559236887746, 0.4263800011961007, 0.46282120287861567, 0.4924346629986245, 0.5283376193608835, 0.5616689591930307, 0.5949504614955247, 0.6265972928253892, 0.6695672108924905, 0.7053704921954429, 0.7408747483204753, 0.7780136754181369, 0.817793991587425, 0.8557502541714013, 0.9035344776030142, 0.953860415046947, 1.0]}],\n",
              "                        {\"template\": {\"data\": {\"bar\": [{\"error_x\": {\"color\": \"#2a3f5f\"}, \"error_y\": {\"color\": \"#2a3f5f\"}, \"marker\": {\"line\": {\"color\": \"#E5ECF6\", \"width\": 0.5}}, \"type\": \"bar\"}], \"barpolar\": [{\"marker\": {\"line\": {\"color\": \"#E5ECF6\", \"width\": 0.5}}, \"type\": \"barpolar\"}], \"carpet\": [{\"aaxis\": {\"endlinecolor\": \"#2a3f5f\", \"gridcolor\": \"white\", \"linecolor\": \"white\", \"minorgridcolor\": \"white\", \"startlinecolor\": \"#2a3f5f\"}, \"baxis\": {\"endlinecolor\": \"#2a3f5f\", \"gridcolor\": \"white\", \"linecolor\": \"white\", \"minorgridcolor\": \"white\", \"startlinecolor\": \"#2a3f5f\"}, \"type\": \"carpet\"}], \"choropleth\": [{\"colorbar\": {\"outlinewidth\": 0, \"ticks\": \"\"}, \"type\": \"choropleth\"}], \"contour\": [{\"colorbar\": {\"outlinewidth\": 0, \"ticks\": \"\"}, \"colorscale\": [[0.0, \"#0d0887\"], [0.1111111111111111, \"#46039f\"], [0.2222222222222222, \"#7201a8\"], [0.3333333333333333, \"#9c179e\"], [0.4444444444444444, \"#bd3786\"], [0.5555555555555556, \"#d8576b\"], [0.6666666666666666, \"#ed7953\"], [0.7777777777777778, \"#fb9f3a\"], [0.8888888888888888, \"#fdca26\"], [1.0, \"#f0f921\"]], \"type\": \"contour\"}], \"contourcarpet\": [{\"colorbar\": {\"outlinewidth\": 0, \"ticks\": \"\"}, \"type\": \"contourcarpet\"}], \"heatmap\": [{\"colorbar\": {\"outlinewidth\": 0, \"ticks\": \"\"}, \"colorscale\": [[0.0, \"#0d0887\"], [0.1111111111111111, \"#46039f\"], [0.2222222222222222, \"#7201a8\"], [0.3333333333333333, \"#9c179e\"], [0.4444444444444444, \"#bd3786\"], [0.5555555555555556, \"#d8576b\"], [0.6666666666666666, \"#ed7953\"], [0.7777777777777778, \"#fb9f3a\"], [0.8888888888888888, \"#fdca26\"], [1.0, \"#f0f921\"]], \"type\": \"heatmap\"}], \"heatmapgl\": [{\"colorbar\": {\"outlinewidth\": 0, \"ticks\": \"\"}, \"colorscale\": [[0.0, \"#0d0887\"], [0.1111111111111111, \"#46039f\"], [0.2222222222222222, \"#7201a8\"], [0.3333333333333333, \"#9c179e\"], [0.4444444444444444, \"#bd3786\"], [0.5555555555555556, \"#d8576b\"], [0.6666666666666666, \"#ed7953\"], [0.7777777777777778, \"#fb9f3a\"], [0.8888888888888888, \"#fdca26\"], [1.0, \"#f0f921\"]], \"type\": \"heatmapgl\"}], \"histogram\": [{\"marker\": {\"colorbar\": {\"outlinewidth\": 0, \"ticks\": \"\"}}, \"type\": \"histogram\"}], \"histogram2d\": [{\"colorbar\": {\"outlinewidth\": 0, \"ticks\": \"\"}, \"colorscale\": [[0.0, \"#0d0887\"], [0.1111111111111111, \"#46039f\"], [0.2222222222222222, \"#7201a8\"], [0.3333333333333333, \"#9c179e\"], [0.4444444444444444, \"#bd3786\"], [0.5555555555555556, \"#d8576b\"], [0.6666666666666666, \"#ed7953\"], [0.7777777777777778, \"#fb9f3a\"], [0.8888888888888888, \"#fdca26\"], [1.0, \"#f0f921\"]], \"type\": \"histogram2d\"}], \"histogram2dcontour\": [{\"colorbar\": {\"outlinewidth\": 0, \"ticks\": \"\"}, \"colorscale\": [[0.0, \"#0d0887\"], [0.1111111111111111, \"#46039f\"], [0.2222222222222222, \"#7201a8\"], [0.3333333333333333, \"#9c179e\"], [0.4444444444444444, \"#bd3786\"], [0.5555555555555556, \"#d8576b\"], [0.6666666666666666, \"#ed7953\"], [0.7777777777777778, \"#fb9f3a\"], [0.8888888888888888, \"#fdca26\"], [1.0, \"#f0f921\"]], \"type\": \"histogram2dcontour\"}], \"mesh3d\": [{\"colorbar\": {\"outlinewidth\": 0, \"ticks\": \"\"}, \"type\": \"mesh3d\"}], \"parcoords\": [{\"line\": {\"colorbar\": {\"outlinewidth\": 0, \"ticks\": \"\"}}, \"type\": \"parcoords\"}], \"pie\": [{\"automargin\": true, \"type\": \"pie\"}], \"scatter\": [{\"marker\": {\"colorbar\": {\"outlinewidth\": 0, \"ticks\": \"\"}}, \"type\": \"scatter\"}], \"scatter3d\": [{\"line\": {\"colorbar\": {\"outlinewidth\": 0, \"ticks\": \"\"}}, \"marker\": {\"colorbar\": {\"outlinewidth\": 0, \"ticks\": \"\"}}, \"type\": \"scatter3d\"}], \"scattercarpet\": [{\"marker\": {\"colorbar\": {\"outlinewidth\": 0, \"ticks\": \"\"}}, \"type\": \"scattercarpet\"}], \"scattergeo\": [{\"marker\": {\"colorbar\": {\"outlinewidth\": 0, \"ticks\": \"\"}}, \"type\": \"scattergeo\"}], \"scattergl\": [{\"marker\": {\"colorbar\": {\"outlinewidth\": 0, \"ticks\": \"\"}}, \"type\": \"scattergl\"}], \"scattermapbox\": [{\"marker\": {\"colorbar\": {\"outlinewidth\": 0, \"ticks\": \"\"}}, \"type\": \"scattermapbox\"}], \"scatterpolar\": [{\"marker\": {\"colorbar\": {\"outlinewidth\": 0, \"ticks\": \"\"}}, \"type\": \"scatterpolar\"}], \"scatterpolargl\": [{\"marker\": {\"colorbar\": {\"outlinewidth\": 0, \"ticks\": \"\"}}, \"type\": \"scatterpolargl\"}], \"scatterternary\": [{\"marker\": {\"colorbar\": {\"outlinewidth\": 0, \"ticks\": \"\"}}, \"type\": \"scatterternary\"}], \"surface\": [{\"colorbar\": {\"outlinewidth\": 0, \"ticks\": \"\"}, \"colorscale\": [[0.0, \"#0d0887\"], [0.1111111111111111, \"#46039f\"], [0.2222222222222222, \"#7201a8\"], [0.3333333333333333, \"#9c179e\"], [0.4444444444444444, \"#bd3786\"], [0.5555555555555556, \"#d8576b\"], [0.6666666666666666, \"#ed7953\"], [0.7777777777777778, \"#fb9f3a\"], [0.8888888888888888, \"#fdca26\"], [1.0, \"#f0f921\"]], \"type\": \"surface\"}], \"table\": [{\"cells\": {\"fill\": {\"color\": \"#EBF0F8\"}, \"line\": {\"color\": \"white\"}}, \"header\": {\"fill\": {\"color\": \"#C8D4E3\"}, \"line\": {\"color\": \"white\"}}, \"type\": \"table\"}]}, \"layout\": {\"annotationdefaults\": {\"arrowcolor\": \"#2a3f5f\", \"arrowhead\": 0, \"arrowwidth\": 1}, \"coloraxis\": {\"colorbar\": {\"outlinewidth\": 0, \"ticks\": \"\"}}, \"colorscale\": {\"diverging\": [[0, \"#8e0152\"], [0.1, \"#c51b7d\"], [0.2, \"#de77ae\"], [0.3, \"#f1b6da\"], [0.4, \"#fde0ef\"], [0.5, \"#f7f7f7\"], [0.6, \"#e6f5d0\"], [0.7, \"#b8e186\"], [0.8, \"#7fbc41\"], [0.9, \"#4d9221\"], [1, \"#276419\"]], \"sequential\": [[0.0, \"#0d0887\"], [0.1111111111111111, \"#46039f\"], [0.2222222222222222, \"#7201a8\"], [0.3333333333333333, \"#9c179e\"], [0.4444444444444444, \"#bd3786\"], [0.5555555555555556, \"#d8576b\"], [0.6666666666666666, \"#ed7953\"], [0.7777777777777778, \"#fb9f3a\"], [0.8888888888888888, \"#fdca26\"], [1.0, \"#f0f921\"]], \"sequentialminus\": [[0.0, \"#0d0887\"], [0.1111111111111111, \"#46039f\"], [0.2222222222222222, \"#7201a8\"], [0.3333333333333333, \"#9c179e\"], [0.4444444444444444, \"#bd3786\"], [0.5555555555555556, \"#d8576b\"], [0.6666666666666666, \"#ed7953\"], [0.7777777777777778, \"#fb9f3a\"], [0.8888888888888888, \"#fdca26\"], [1.0, \"#f0f921\"]]}, \"colorway\": [\"#636efa\", \"#EF553B\", \"#00cc96\", \"#ab63fa\", \"#FFA15A\", \"#19d3f3\", \"#FF6692\", \"#B6E880\", \"#FF97FF\", \"#FECB52\"], \"font\": {\"color\": \"#2a3f5f\"}, \"geo\": {\"bgcolor\": \"white\", \"lakecolor\": \"white\", \"landcolor\": \"#E5ECF6\", \"showlakes\": true, \"showland\": true, \"subunitcolor\": \"white\"}, \"hoverlabel\": {\"align\": \"left\"}, \"hovermode\": \"closest\", \"mapbox\": {\"style\": \"light\"}, \"paper_bgcolor\": \"white\", \"plot_bgcolor\": \"#E5ECF6\", \"polar\": {\"angularaxis\": {\"gridcolor\": \"white\", \"linecolor\": \"white\", \"ticks\": \"\"}, \"bgcolor\": \"#E5ECF6\", \"radialaxis\": {\"gridcolor\": \"white\", \"linecolor\": \"white\", \"ticks\": \"\"}}, \"scene\": {\"xaxis\": {\"backgroundcolor\": \"#E5ECF6\", \"gridcolor\": \"white\", \"gridwidth\": 2, \"linecolor\": \"white\", \"showbackground\": true, \"ticks\": \"\", \"zerolinecolor\": \"white\"}, \"yaxis\": {\"backgroundcolor\": \"#E5ECF6\", \"gridcolor\": \"white\", \"gridwidth\": 2, \"linecolor\": \"white\", \"showbackground\": true, \"ticks\": \"\", \"zerolinecolor\": \"white\"}, \"zaxis\": {\"backgroundcolor\": \"#E5ECF6\", \"gridcolor\": \"white\", \"gridwidth\": 2, \"linecolor\": \"white\", \"showbackground\": true, \"ticks\": \"\", \"zerolinecolor\": \"white\"}}, \"shapedefaults\": {\"line\": {\"color\": \"#2a3f5f\"}}, \"ternary\": {\"aaxis\": {\"gridcolor\": \"white\", \"linecolor\": \"white\", \"ticks\": \"\"}, \"baxis\": {\"gridcolor\": \"white\", \"linecolor\": \"white\", \"ticks\": \"\"}, \"bgcolor\": \"#E5ECF6\", \"caxis\": {\"gridcolor\": \"white\", \"linecolor\": \"white\", \"ticks\": \"\"}}, \"title\": {\"x\": 0.05}, \"xaxis\": {\"automargin\": true, \"gridcolor\": \"white\", \"linecolor\": \"white\", \"ticks\": \"\", \"title\": {\"standoff\": 15}, \"zerolinecolor\": \"white\", \"zerolinewidth\": 2}, \"yaxis\": {\"automargin\": true, \"gridcolor\": \"white\", \"linecolor\": \"white\", \"ticks\": \"\", \"title\": {\"standoff\": 15}, \"zerolinecolor\": \"white\", \"zerolinewidth\": 2}}}, \"title\": {\"text\": \"Cases\"}, \"xaxis\": {\"title\": {\"text\": \"Date\"}}, \"yaxis\": {\"title\": {\"text\": \"Close\"}}},\n",
              "                        {\"responsive\": true}\n",
              "                    ).then(function(){\n",
              "                            \n",
              "var gd = document.getElementById('6ca4b7d6-d70f-4392-8254-c16efd53a78b');\n",
              "var x = new MutationObserver(function (mutations, observer) {{\n",
              "        var display = window.getComputedStyle(gd).display;\n",
              "        if (!display || display === 'none') {{\n",
              "            console.log([gd, 'removed!']);\n",
              "            Plotly.purge(gd);\n",
              "            observer.disconnect();\n",
              "        }}\n",
              "}});\n",
              "\n",
              "// Listen for the removal of the full notebook cells\n",
              "var notebookContainer = gd.closest('#notebook-container');\n",
              "if (notebookContainer) {{\n",
              "    x.observe(notebookContainer, {childList: true});\n",
              "}}\n",
              "\n",
              "// Listen for the clearing of the current output cell\n",
              "var outputEl = gd.closest('.output');\n",
              "if (outputEl) {{\n",
              "    x.observe(outputEl, {childList: true});\n",
              "}}\n",
              "\n",
              "                        })\n",
              "                };\n",
              "                \n",
              "            </script>\n",
              "        </div>\n",
              "</body>\n",
              "</html>"
            ]
          },
          "metadata": {
            "tags": []
          }
        }
      ]
    },
    {
      "cell_type": "code",
      "metadata": {
        "id": "S_Jf81LkhvD7",
        "colab_type": "code",
        "outputId": "baa11338-033a-47e2-e854-d794d09ef5d9",
        "colab": {
          "base_uri": "https://localhost:8080/",
          "height": 71
        }
      },
      "source": [
        "# Forcast\n",
        "\n",
        "conf_data = conf_data.reshape((-1))\n",
        "look_back = 5\n",
        "\n",
        "def predict(num_prediction, model):   # num_prediction = no. of days, a==> where model is stored at a\n",
        "    prediction_list = conf_data[-look_back:]\n",
        "    #print(prediction_list)\n",
        "\n",
        "    for _ in range(num_prediction):     #  underscore(_) as a variable in looping.\n",
        "        x = prediction_list[-look_back:]\n",
        "        x = x.reshape((1, look_back,1))\n",
        "        #print(x.type)\n",
        "        out = model.predict(x)[0][0]\n",
        "        prediction_list = np.append(prediction_list, out)\n",
        "\n",
        "    prediction_list =  prediction_list[look_back-1:]\n",
        "\n",
        "    return prediction_list\n",
        "  \n",
        "def predict_dates(num_prediction):\n",
        "    last_date =  last_dates #data['Dates'].values[-1]   #last date = \n",
        "    #           data['Date']\n",
        "    print('last date', last_date)\n",
        "    prediction_dates = pd.date_range(last_date, periods= num_prediction +1).tolist() \n",
        "    print(prediction_dates)\n",
        "    return prediction_dates\n",
        "\n",
        "num_prediction = 7\n",
        "forcast = predict(num_prediction, model)\n",
        "forcast_dates = predict_dates(num_prediction)"
      ],
      "execution_count": 0,
      "outputs": [
        {
          "output_type": "stream",
          "text": [
            "last date 18-May-20\n",
            "[Timestamp('2020-05-18 00:00:00', freq='D'), Timestamp('2020-05-19 00:00:00', freq='D'), Timestamp('2020-05-20 00:00:00', freq='D'), Timestamp('2020-05-21 00:00:00', freq='D'), Timestamp('2020-05-22 00:00:00', freq='D'), Timestamp('2020-05-23 00:00:00', freq='D'), Timestamp('2020-05-24 00:00:00', freq='D'), Timestamp('2020-05-25 00:00:00', freq='D')]\n"
          ],
          "name": "stdout"
        }
      ]
    },
    {
      "cell_type": "code",
      "metadata": {
        "id": "tlTPGiONh01L",
        "colab_type": "code",
        "outputId": "efcf91cb-711c-438f-ec31-2a3859acd156",
        "colab": {
          "base_uri": "https://localhost:8080/",
          "height": 542
        }
      },
      "source": [
        "import plotly.graph_objects as go\n",
        "\n",
        "trace1 = go.Scatter(\n",
        "    x = forcast_dates,\n",
        "    y = forcast,\n",
        "    mode = 'lines',\n",
        "    name = 'Prediction'    \n",
        ")\n",
        "\n",
        "layout = go.Layout(\n",
        "    title = \"Covid-19 Confirmed Cases\",\n",
        "    xaxis= {'title': 'Date'},\n",
        "    yaxis = { 'title' : 'Cases'}\n",
        "\n",
        ")\n",
        "\n",
        "#fig = px.line(trace1, x= 'forcast_dates', y = 'forcast', title= 'Confirmed')\n",
        "\n",
        "fig = go.Figure(data=trace1, layout= layout)\n",
        "\n",
        "fig.show()\n"
      ],
      "execution_count": 0,
      "outputs": [
        {
          "output_type": "display_data",
          "data": {
            "text/html": [
              "<html>\n",
              "<head><meta charset=\"utf-8\" /></head>\n",
              "<body>\n",
              "    <div>\n",
              "            <script src=\"https://cdnjs.cloudflare.com/ajax/libs/mathjax/2.7.5/MathJax.js?config=TeX-AMS-MML_SVG\"></script><script type=\"text/javascript\">if (window.MathJax) {MathJax.Hub.Config({SVG: {font: \"STIX-Web\"}});}</script>\n",
              "                <script type=\"text/javascript\">window.PlotlyConfig = {MathJaxConfig: 'local'};</script>\n",
              "        <script src=\"https://cdn.plot.ly/plotly-latest.min.js\"></script>    \n",
              "            <div id=\"fa7d594c-9b81-4c86-b77a-f2cd012975e2\" class=\"plotly-graph-div\" style=\"height:525px; width:100%;\"></div>\n",
              "            <script type=\"text/javascript\">\n",
              "                \n",
              "                    window.PLOTLYENV=window.PLOTLYENV || {};\n",
              "                    \n",
              "                if (document.getElementById(\"fa7d594c-9b81-4c86-b77a-f2cd012975e2\")) {\n",
              "                    Plotly.newPlot(\n",
              "                        'fa7d594c-9b81-4c86-b77a-f2cd012975e2',\n",
              "                        [{\"mode\": \"lines\", \"name\": \"Prediction\", \"type\": \"scatter\", \"x\": [\"2020-05-18T00:00:00\", \"2020-05-19T00:00:00\", \"2020-05-20T00:00:00\", \"2020-05-21T00:00:00\", \"2020-05-22T00:00:00\", \"2020-05-23T00:00:00\", \"2020-05-24T00:00:00\", \"2020-05-25T00:00:00\"], \"y\": [1.0, 0.9913132190704346, 1.0443451404571533, 1.1069172620773315, 1.1847736835479736, 1.2893356084823608, 1.4414085149765015, 1.6819345951080322]}],\n",
              "                        {\"template\": {\"data\": {\"bar\": [{\"error_x\": {\"color\": \"#2a3f5f\"}, \"error_y\": {\"color\": \"#2a3f5f\"}, \"marker\": {\"line\": {\"color\": \"#E5ECF6\", \"width\": 0.5}}, \"type\": \"bar\"}], \"barpolar\": [{\"marker\": {\"line\": {\"color\": \"#E5ECF6\", \"width\": 0.5}}, \"type\": \"barpolar\"}], \"carpet\": [{\"aaxis\": {\"endlinecolor\": \"#2a3f5f\", \"gridcolor\": \"white\", \"linecolor\": \"white\", \"minorgridcolor\": \"white\", \"startlinecolor\": \"#2a3f5f\"}, \"baxis\": {\"endlinecolor\": \"#2a3f5f\", \"gridcolor\": \"white\", \"linecolor\": \"white\", \"minorgridcolor\": \"white\", \"startlinecolor\": \"#2a3f5f\"}, \"type\": \"carpet\"}], \"choropleth\": [{\"colorbar\": {\"outlinewidth\": 0, \"ticks\": \"\"}, \"type\": \"choropleth\"}], \"contour\": [{\"colorbar\": {\"outlinewidth\": 0, \"ticks\": \"\"}, \"colorscale\": [[0.0, \"#0d0887\"], [0.1111111111111111, \"#46039f\"], [0.2222222222222222, \"#7201a8\"], [0.3333333333333333, \"#9c179e\"], [0.4444444444444444, \"#bd3786\"], [0.5555555555555556, \"#d8576b\"], [0.6666666666666666, \"#ed7953\"], [0.7777777777777778, \"#fb9f3a\"], [0.8888888888888888, \"#fdca26\"], [1.0, \"#f0f921\"]], \"type\": \"contour\"}], \"contourcarpet\": [{\"colorbar\": {\"outlinewidth\": 0, \"ticks\": \"\"}, \"type\": \"contourcarpet\"}], \"heatmap\": [{\"colorbar\": {\"outlinewidth\": 0, \"ticks\": \"\"}, \"colorscale\": [[0.0, \"#0d0887\"], [0.1111111111111111, \"#46039f\"], [0.2222222222222222, \"#7201a8\"], [0.3333333333333333, \"#9c179e\"], [0.4444444444444444, \"#bd3786\"], [0.5555555555555556, \"#d8576b\"], [0.6666666666666666, \"#ed7953\"], [0.7777777777777778, \"#fb9f3a\"], [0.8888888888888888, \"#fdca26\"], [1.0, \"#f0f921\"]], \"type\": \"heatmap\"}], \"heatmapgl\": [{\"colorbar\": {\"outlinewidth\": 0, \"ticks\": \"\"}, \"colorscale\": [[0.0, \"#0d0887\"], [0.1111111111111111, \"#46039f\"], [0.2222222222222222, \"#7201a8\"], [0.3333333333333333, \"#9c179e\"], [0.4444444444444444, \"#bd3786\"], [0.5555555555555556, \"#d8576b\"], [0.6666666666666666, \"#ed7953\"], [0.7777777777777778, \"#fb9f3a\"], [0.8888888888888888, \"#fdca26\"], [1.0, \"#f0f921\"]], \"type\": \"heatmapgl\"}], \"histogram\": [{\"marker\": {\"colorbar\": {\"outlinewidth\": 0, \"ticks\": \"\"}}, \"type\": \"histogram\"}], \"histogram2d\": [{\"colorbar\": {\"outlinewidth\": 0, \"ticks\": \"\"}, \"colorscale\": [[0.0, \"#0d0887\"], [0.1111111111111111, \"#46039f\"], [0.2222222222222222, \"#7201a8\"], [0.3333333333333333, \"#9c179e\"], [0.4444444444444444, \"#bd3786\"], [0.5555555555555556, \"#d8576b\"], [0.6666666666666666, \"#ed7953\"], [0.7777777777777778, \"#fb9f3a\"], [0.8888888888888888, \"#fdca26\"], [1.0, \"#f0f921\"]], \"type\": \"histogram2d\"}], \"histogram2dcontour\": [{\"colorbar\": {\"outlinewidth\": 0, \"ticks\": \"\"}, \"colorscale\": [[0.0, \"#0d0887\"], [0.1111111111111111, \"#46039f\"], [0.2222222222222222, \"#7201a8\"], [0.3333333333333333, \"#9c179e\"], [0.4444444444444444, \"#bd3786\"], [0.5555555555555556, \"#d8576b\"], [0.6666666666666666, \"#ed7953\"], [0.7777777777777778, \"#fb9f3a\"], [0.8888888888888888, \"#fdca26\"], [1.0, \"#f0f921\"]], \"type\": \"histogram2dcontour\"}], \"mesh3d\": [{\"colorbar\": {\"outlinewidth\": 0, \"ticks\": \"\"}, \"type\": \"mesh3d\"}], \"parcoords\": [{\"line\": {\"colorbar\": {\"outlinewidth\": 0, \"ticks\": \"\"}}, \"type\": \"parcoords\"}], \"pie\": [{\"automargin\": true, \"type\": \"pie\"}], \"scatter\": [{\"marker\": {\"colorbar\": {\"outlinewidth\": 0, \"ticks\": \"\"}}, \"type\": \"scatter\"}], \"scatter3d\": [{\"line\": {\"colorbar\": {\"outlinewidth\": 0, \"ticks\": \"\"}}, \"marker\": {\"colorbar\": {\"outlinewidth\": 0, \"ticks\": \"\"}}, \"type\": \"scatter3d\"}], \"scattercarpet\": [{\"marker\": {\"colorbar\": {\"outlinewidth\": 0, \"ticks\": \"\"}}, \"type\": \"scattercarpet\"}], \"scattergeo\": [{\"marker\": {\"colorbar\": {\"outlinewidth\": 0, \"ticks\": \"\"}}, \"type\": \"scattergeo\"}], \"scattergl\": [{\"marker\": {\"colorbar\": {\"outlinewidth\": 0, \"ticks\": \"\"}}, \"type\": \"scattergl\"}], \"scattermapbox\": [{\"marker\": {\"colorbar\": {\"outlinewidth\": 0, \"ticks\": \"\"}}, \"type\": \"scattermapbox\"}], \"scatterpolar\": [{\"marker\": {\"colorbar\": {\"outlinewidth\": 0, \"ticks\": \"\"}}, \"type\": \"scatterpolar\"}], \"scatterpolargl\": [{\"marker\": {\"colorbar\": {\"outlinewidth\": 0, \"ticks\": \"\"}}, \"type\": \"scatterpolargl\"}], \"scatterternary\": [{\"marker\": {\"colorbar\": {\"outlinewidth\": 0, \"ticks\": \"\"}}, \"type\": \"scatterternary\"}], \"surface\": [{\"colorbar\": {\"outlinewidth\": 0, \"ticks\": \"\"}, \"colorscale\": [[0.0, \"#0d0887\"], [0.1111111111111111, \"#46039f\"], [0.2222222222222222, \"#7201a8\"], [0.3333333333333333, \"#9c179e\"], [0.4444444444444444, \"#bd3786\"], [0.5555555555555556, \"#d8576b\"], [0.6666666666666666, \"#ed7953\"], [0.7777777777777778, \"#fb9f3a\"], [0.8888888888888888, \"#fdca26\"], [1.0, \"#f0f921\"]], \"type\": \"surface\"}], \"table\": [{\"cells\": {\"fill\": {\"color\": \"#EBF0F8\"}, \"line\": {\"color\": \"white\"}}, \"header\": {\"fill\": {\"color\": \"#C8D4E3\"}, \"line\": {\"color\": \"white\"}}, \"type\": \"table\"}]}, \"layout\": {\"annotationdefaults\": {\"arrowcolor\": \"#2a3f5f\", \"arrowhead\": 0, \"arrowwidth\": 1}, \"coloraxis\": {\"colorbar\": {\"outlinewidth\": 0, \"ticks\": \"\"}}, \"colorscale\": {\"diverging\": [[0, \"#8e0152\"], [0.1, \"#c51b7d\"], [0.2, \"#de77ae\"], [0.3, \"#f1b6da\"], [0.4, \"#fde0ef\"], [0.5, \"#f7f7f7\"], [0.6, \"#e6f5d0\"], [0.7, \"#b8e186\"], [0.8, \"#7fbc41\"], [0.9, \"#4d9221\"], [1, \"#276419\"]], \"sequential\": [[0.0, \"#0d0887\"], [0.1111111111111111, \"#46039f\"], [0.2222222222222222, \"#7201a8\"], [0.3333333333333333, \"#9c179e\"], [0.4444444444444444, \"#bd3786\"], [0.5555555555555556, \"#d8576b\"], [0.6666666666666666, \"#ed7953\"], [0.7777777777777778, \"#fb9f3a\"], [0.8888888888888888, \"#fdca26\"], [1.0, \"#f0f921\"]], \"sequentialminus\": [[0.0, \"#0d0887\"], [0.1111111111111111, \"#46039f\"], [0.2222222222222222, \"#7201a8\"], [0.3333333333333333, \"#9c179e\"], [0.4444444444444444, \"#bd3786\"], [0.5555555555555556, \"#d8576b\"], [0.6666666666666666, \"#ed7953\"], [0.7777777777777778, \"#fb9f3a\"], [0.8888888888888888, \"#fdca26\"], [1.0, \"#f0f921\"]]}, \"colorway\": [\"#636efa\", \"#EF553B\", \"#00cc96\", \"#ab63fa\", \"#FFA15A\", \"#19d3f3\", \"#FF6692\", \"#B6E880\", \"#FF97FF\", \"#FECB52\"], \"font\": {\"color\": \"#2a3f5f\"}, \"geo\": {\"bgcolor\": \"white\", \"lakecolor\": \"white\", \"landcolor\": \"#E5ECF6\", \"showlakes\": true, \"showland\": true, \"subunitcolor\": \"white\"}, \"hoverlabel\": {\"align\": \"left\"}, \"hovermode\": \"closest\", \"mapbox\": {\"style\": \"light\"}, \"paper_bgcolor\": \"white\", \"plot_bgcolor\": \"#E5ECF6\", \"polar\": {\"angularaxis\": {\"gridcolor\": \"white\", \"linecolor\": \"white\", \"ticks\": \"\"}, \"bgcolor\": \"#E5ECF6\", \"radialaxis\": {\"gridcolor\": \"white\", \"linecolor\": \"white\", \"ticks\": \"\"}}, \"scene\": {\"xaxis\": {\"backgroundcolor\": \"#E5ECF6\", \"gridcolor\": \"white\", \"gridwidth\": 2, \"linecolor\": \"white\", \"showbackground\": true, \"ticks\": \"\", \"zerolinecolor\": \"white\"}, \"yaxis\": {\"backgroundcolor\": \"#E5ECF6\", \"gridcolor\": \"white\", \"gridwidth\": 2, \"linecolor\": \"white\", \"showbackground\": true, \"ticks\": \"\", \"zerolinecolor\": \"white\"}, \"zaxis\": {\"backgroundcolor\": \"#E5ECF6\", \"gridcolor\": \"white\", \"gridwidth\": 2, \"linecolor\": \"white\", \"showbackground\": true, \"ticks\": \"\", \"zerolinecolor\": \"white\"}}, \"shapedefaults\": {\"line\": {\"color\": \"#2a3f5f\"}}, \"ternary\": {\"aaxis\": {\"gridcolor\": \"white\", \"linecolor\": \"white\", \"ticks\": \"\"}, \"baxis\": {\"gridcolor\": \"white\", \"linecolor\": \"white\", \"ticks\": \"\"}, \"bgcolor\": \"#E5ECF6\", \"caxis\": {\"gridcolor\": \"white\", \"linecolor\": \"white\", \"ticks\": \"\"}}, \"title\": {\"x\": 0.05}, \"xaxis\": {\"automargin\": true, \"gridcolor\": \"white\", \"linecolor\": \"white\", \"ticks\": \"\", \"title\": {\"standoff\": 15}, \"zerolinecolor\": \"white\", \"zerolinewidth\": 2}, \"yaxis\": {\"automargin\": true, \"gridcolor\": \"white\", \"linecolor\": \"white\", \"ticks\": \"\", \"title\": {\"standoff\": 15}, \"zerolinecolor\": \"white\", \"zerolinewidth\": 2}}}, \"title\": {\"text\": \"Covid-19 Confirmed Cases\"}, \"xaxis\": {\"title\": {\"text\": \"Date\"}}, \"yaxis\": {\"title\": {\"text\": \"Cases\"}}},\n",
              "                        {\"responsive\": true}\n",
              "                    ).then(function(){\n",
              "                            \n",
              "var gd = document.getElementById('fa7d594c-9b81-4c86-b77a-f2cd012975e2');\n",
              "var x = new MutationObserver(function (mutations, observer) {{\n",
              "        var display = window.getComputedStyle(gd).display;\n",
              "        if (!display || display === 'none') {{\n",
              "            console.log([gd, 'removed!']);\n",
              "            Plotly.purge(gd);\n",
              "            observer.disconnect();\n",
              "        }}\n",
              "}});\n",
              "\n",
              "// Listen for the removal of the full notebook cells\n",
              "var notebookContainer = gd.closest('#notebook-container');\n",
              "if (notebookContainer) {{\n",
              "    x.observe(notebookContainer, {childList: true});\n",
              "}}\n",
              "\n",
              "// Listen for the clearing of the current output cell\n",
              "var outputEl = gd.closest('.output');\n",
              "if (outputEl) {{\n",
              "    x.observe(outputEl, {childList: true});\n",
              "}}\n",
              "\n",
              "                        })\n",
              "                };\n",
              "                \n",
              "            </script>\n",
              "        </div>\n",
              "</body>\n",
              "</html>"
            ]
          },
          "metadata": {
            "tags": []
          }
        }
      ]
    }
  ]
}